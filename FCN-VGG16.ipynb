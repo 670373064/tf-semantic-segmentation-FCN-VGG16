{
 "cells": [
  {
   "cell_type": "code",
   "execution_count": 1,
   "metadata": {},
   "outputs": [
    {
     "name": "stderr",
     "output_type": "stream",
     "text": [
      "/opt/anaconda/lib/python3.6/importlib/_bootstrap.py:219: RuntimeWarning: compiletime version 3.5 of module 'tensorflow.python.framework.fast_tensor_util' does not match runtime version 3.6\n",
      "  return f(*args, **kwds)\n"
     ]
    }
   ],
   "source": [
    "import os.path\n",
    "import tensorflow as tf\n",
    "import helper\n",
    "import project_tests as tests\n",
    "import numpy as np"
   ]
  },
  {
   "cell_type": "code",
   "execution_count": 2,
   "metadata": {
    "collapsed": true
   },
   "outputs": [],
   "source": [
    "def load_vgg(sess, vgg_path):\n",
    "    \"\"\"\n",
    "    Load Pretrained VGG Model into TensorFlow.\n",
    "    :param sess: TensorFlow Session\n",
    "    :param vgg_path: Path to vgg folder, containing \"variables/\" and \"saved_model.pb\"\n",
    "    :return: Tuple of Tensors from VGG model (image_input, keep_prob, layer3_out, layer4_out, layer7_out)\n",
    "    \"\"\"\n",
    "    vgg_tag = 'vgg16'\n",
    "    vgg_input_tensor_name = 'image_input:0'\n",
    "    vgg_keep_prob_tensor_name = 'keep_prob:0'\n",
    "    vgg_layer3_out_tensor_name = 'layer3_out:0'\n",
    "    vgg_layer4_out_tensor_name = 'layer4_out:0'\n",
    "    vgg_layer7_out_tensor_name = 'layer7_out:0'\n",
    "\n",
    "    model = tf.saved_model.loader.load(sess, [vgg_tag], vgg_path)\n",
    "\n",
    "    graph = tf.get_default_graph()\n",
    "\n",
    "    image_input = graph.get_tensor_by_name(vgg_input_tensor_name)\n",
    "    keep_prob = graph.get_tensor_by_name(vgg_keep_prob_tensor_name)\n",
    "    layer3 = graph.get_tensor_by_name(vgg_layer3_out_tensor_name)\n",
    "    layer4 = graph.get_tensor_by_name(vgg_layer4_out_tensor_name)\n",
    "    layer7 = graph.get_tensor_by_name(vgg_layer7_out_tensor_name)\n",
    "    \n",
    "    return image_input, keep_prob, layer3, layer4, layer7\n",
    "\n",
    "# tests.test_load_vgg(load_vgg, tf)"
   ]
  },
  {
   "cell_type": "code",
   "execution_count": 3,
   "metadata": {
    "collapsed": true
   },
   "outputs": [],
   "source": [
    "def layers(vgg_layer3_out, vgg_layer4_out, vgg_layer7_out, num_classes):\n",
    "    \"\"\"\n",
    "    Create the layers for a fully convolutional network.  Build skip-layers using the vgg layers.\n",
    "    :param vgg_layer7_out: TF Tensor for VGG Layer 3 output\n",
    "    :param vgg_layer4_out: TF Tensor for VGG Layer 4 output\n",
    "    :param vgg_layer3_out: TF Tensor for VGG Layer 7 output\n",
    "    :param num_classes: Number of classes to classify\n",
    "    :return: The Tensor for the last layer of output\n",
    "    \"\"\"\n",
    "    # TODO: Implement function\n",
    "    kernel_regularizer = tf.contrib.layers.l2_regularizer(1e-3)\n",
    "    kernel_initializer = tf.contrib.layers.xavier_initializer_conv2d()\n",
    "    \n",
    "    pool3_1x1 = tf.layers.conv2d(vgg_layer3_out, num_classes, kernel_size=1, \n",
    "                                 padding='same', \n",
    "                                 kernel_initializer=kernel_initializer, \n",
    "                                 kernel_regularizer=kernel_regularizer)\n",
    "    \n",
    "    pool4_1x1 = tf.layers.conv2d(vgg_layer4_out, num_classes, kernel_size=1, \n",
    "                                 padding='same', \n",
    "                                 kernel_initializer=kernel_initializer, \n",
    "                                 kernel_regularizer=kernel_regularizer)\n",
    "    \n",
    "    conv7_1x1 = tf.layers.conv2d(vgg_layer7_out, num_classes, kernel_size=1, \n",
    "                                 padding='same', \n",
    "                                 kernel_initializer=kernel_initializer, \n",
    "                                 kernel_regularizer=kernel_regularizer)\n",
    "    \n",
    "    # make prediction of segmentation\n",
    "    deconv7 = tf.layers.conv2d_transpose(conv7_1x1, num_classes, kernel_size=4, strides=2, padding='same',\n",
    "                                         kernel_initializer=kernel_initializer, \n",
    "                                         kernel_regularizer=kernel_regularizer)\n",
    "    \n",
    "    fuse1 = tf.add(deconv7, pool4_1x1)\n",
    "    deconv_fuse1 = tf.layers.conv2d_transpose(fuse1, num_classes, kernel_size=4, strides=2, padding='same',\n",
    "                                              kernel_initializer=kernel_initializer,\n",
    "                                              kernel_regularizer=kernel_regularizer)\n",
    "    \n",
    "    fuse2 = tf.add(deconv_fuse1, pool3_1x1)\n",
    "    \n",
    "    out = tf.layers.conv2d_transpose(fuse2, num_classes, kernel_size=16, strides=8, padding='same',\n",
    "                                     kernel_initializer=kernel_initializer, \n",
    "                                     kernel_regularizer=kernel_regularizer)\n",
    "    \n",
    "    return out\n",
    "# tests.test_layers(layers)"
   ]
  },
  {
   "cell_type": "code",
   "execution_count": 4,
   "metadata": {
    "collapsed": true
   },
   "outputs": [],
   "source": [
    "def optimize(nn_last_layer, correct_label, learning_rate, num_classes):\n",
    "    \"\"\"\n",
    "    Build the TensorFLow loss and optimizer operations.\n",
    "    :param nn_last_layer: TF Tensor of the last layer in the neural network\n",
    "    :param correct_label: TF Placeholder for the correct label image\n",
    "    :param learning_rate: TF Placeholder for the learning rate\n",
    "    :param num_classes: Number of classes to classify\n",
    "    :return: Tuple of (logits, train_op, cross_entropy_loss)\n",
    "    \"\"\"\n",
    "    # TODO: Implement function\n",
    "    logits = tf.reshape(nn_last_layer, (-1, num_classes))\n",
    "    cross_entropy_loss = tf.reduce_mean(tf.nn.softmax_cross_entropy_with_logits(logits=logits, labels=correct_label))\n",
    "#     train_op = tf.train.MomentumOptimizer(learning_rate=learning_rate, momentum=0.9).minimize(cross_entropy_loss)\n",
    "    train_op = tf.train.AdamOptimizer(learning_rate=learning_rate).minimize(cross_entropy_loss)\n",
    "    \n",
    "    return logits, train_op, cross_entropy_loss\n",
    "# tests.test_optimize(optimize)"
   ]
  },
  {
   "cell_type": "code",
   "execution_count": 5,
   "metadata": {
    "collapsed": true
   },
   "outputs": [],
   "source": [
    "def train_nn(sess, epochs, batch_size, get_batches_fn, train_op, cross_entropy_loss, input_image,\n",
    "             correct_label, keep_prob, learning_rate):\n",
    "    \"\"\"\n",
    "    Train neural network and print out the loss during training.\n",
    "    :param sess: TF Session\n",
    "    :param epochs: Number of epochs\n",
    "    :param batch_size: Batch size\n",
    "    :param get_batches_fn: Function to get batches of training data.  Call using get_batches_fn(batch_size)\n",
    "    :param train_op: TF Operation to train the neural network\n",
    "    :param cross_entropy_loss: TF Tensor for the amount of loss\n",
    "    :param input_image: TF Placeholder for input images\n",
    "    :param correct_label: TF Placeholder for label images\n",
    "    :param keep_prob: TF Placeholder for dropout keep probability\n",
    "    :param learning_rate: TF Placeholder for learning rate\n",
    "    \"\"\"\n",
    "    # TODO: Implement function\n",
    "    sess.run(tf.global_variables_initializer())\n",
    "    loss_per_epoch = []\n",
    "    for epoch in range(epochs):\n",
    "        losses, i = [], 0\n",
    "        for images, labels in get_batches_fn(batch_size):\n",
    "            i += 1\n",
    "            feed_dict = {input_image: images, \n",
    "                         correct_label: labels, \n",
    "                         keep_prob: 0.3, \n",
    "                         learning_rate: 1e-3}\n",
    "            _, loss = sess.run([train_op, cross_entropy_loss], feed_dict=feed_dict)\n",
    "            losses.append(loss)\n",
    "        \n",
    "        training_loss = sum(losses) / len(losses)\n",
    "        loss_per_epoch.append(training_loss)\n",
    "        print(\" [-] epoch: %d/%d, loss: %.5f\" % (epoch+1, epochs, training_loss))\n",
    "\n",
    "# tests.test_train_nn(train_nn)"
   ]
  },
  {
   "cell_type": "code",
   "execution_count": 6,
   "metadata": {
    "scrolled": false
   },
   "outputs": [
    {
     "name": "stdout",
     "output_type": "stream",
     "text": [
      "Tests Passed\n",
      "INFO:tensorflow:Restoring parameters from b'./data/vgg/variables/variables'\n",
      " [-] epoch: 1/50, loss: 17.25775\n",
      " [-] epoch: 2/50, loss: 0.74748\n",
      " [-] epoch: 3/50, loss: 0.67050\n",
      " [-] epoch: 4/50, loss: 0.65312\n",
      " [-] epoch: 5/50, loss: 0.63927\n",
      " [-] epoch: 6/50, loss: 0.62614\n",
      " [-] epoch: 7/50, loss: 0.61424\n",
      " [-] epoch: 8/50, loss: 0.60129\n",
      " [-] epoch: 9/50, loss: 0.58356\n",
      " [-] epoch: 10/50, loss: 0.56172\n",
      " [-] epoch: 11/50, loss: 0.54398\n",
      " [-] epoch: 12/50, loss: 0.51964\n",
      " [-] epoch: 13/50, loss: 0.48364\n",
      " [-] epoch: 14/50, loss: 0.45169\n",
      " [-] epoch: 15/50, loss: 0.41315\n",
      " [-] epoch: 16/50, loss: 0.37460\n",
      " [-] epoch: 17/50, loss: 0.33550\n",
      " [-] epoch: 18/50, loss: 0.30636\n",
      " [-] epoch: 19/50, loss: 0.26273\n",
      " [-] epoch: 20/50, loss: 0.25510\n",
      " [-] epoch: 21/50, loss: 0.27252\n",
      " [-] epoch: 22/50, loss: 0.22541\n",
      " [-] epoch: 23/50, loss: 0.21299\n",
      " [-] epoch: 24/50, loss: 0.19975\n",
      " [-] epoch: 25/50, loss: 0.19875\n",
      " [-] epoch: 26/50, loss: 0.18642\n",
      " [-] epoch: 27/50, loss: 0.18442\n",
      " [-] epoch: 28/50, loss: 0.17264\n",
      " [-] epoch: 29/50, loss: 0.16496\n",
      " [-] epoch: 30/50, loss: 0.16496\n",
      " [-] epoch: 31/50, loss: 0.15823\n",
      " [-] epoch: 32/50, loss: 0.14887\n",
      " [-] epoch: 33/50, loss: 0.17171\n",
      " [-] epoch: 34/50, loss: 0.17208\n",
      " [-] epoch: 35/50, loss: 0.15507\n",
      " [-] epoch: 36/50, loss: 0.14555\n",
      " [-] epoch: 37/50, loss: 0.13692\n",
      " [-] epoch: 38/50, loss: 0.12907\n",
      " [-] epoch: 39/50, loss: 0.12408\n",
      " [-] epoch: 40/50, loss: 0.12267\n",
      " [-] epoch: 41/50, loss: 0.11999\n",
      " [-] epoch: 42/50, loss: 0.11368\n",
      " [-] epoch: 43/50, loss: 0.11026\n",
      " [-] epoch: 44/50, loss: 0.10813\n",
      " [-] epoch: 45/50, loss: 0.10214\n",
      " [-] epoch: 46/50, loss: 0.10030\n",
      " [-] epoch: 47/50, loss: 0.09576\n",
      " [-] epoch: 48/50, loss: 0.09641\n",
      " [-] epoch: 49/50, loss: 0.09450\n",
      " [-] epoch: 50/50, loss: 0.10114\n"
     ]
    }
   ],
   "source": [
    "num_classes = 2\n",
    "image_shape = (160, 576)\n",
    "data_dir = './data'\n",
    "runs_dir = './runs'\n",
    "tests.test_for_kitti_dataset(data_dir)\n",
    "\n",
    "# Download pretrained vgg model\n",
    "helper.maybe_download_pretrained_vgg(data_dir)\n",
    "\n",
    "# OPTIONAL: Train and Inference on the cityscapes dataset instead of the Kitti dataset.\n",
    "# You'll need a GPU with at least 10 teraFLOPS to train on.\n",
    "#  https://www.cityscapes-dataset.com/\n",
    "\n",
    "config = tf.ConfigProto()\n",
    "config.gpu_options.per_process_gpu_memory_fraction = 0.9\n",
    "config.gpu_options.allow_growth = True\n",
    "sess = tf.InteractiveSession(config=config)\n",
    "\n",
    "# Path to vgg model\n",
    "vgg_path = os.path.join(data_dir, 'vgg')\n",
    "# Create function to get batches\n",
    "get_batches_fn = helper.gen_batch_function(os.path.join(data_dir, 'data_road/training'), image_shape)\n",
    "\n",
    "# OPTIONAL: Augment Images for better results\n",
    "#  https://datascience.stackexchange.com/questions/5224/how-to-prepare-augment-images-for-neural-network\n",
    "\n",
    "# TODO: Build NN using load_vgg, layers, and optimize function\n",
    "image_input, keep_prob, layer3, layer4, layer7 = load_vgg(sess, vgg_path)\n",
    "out = layers(layer3, layer4, layer7, num_classes)\n",
    "\n",
    "correct_label = tf.placeholder(tf.int32)\n",
    "learning_rate = tf.placeholder(tf.float32)\n",
    "logits, train_op, cross_entropy_loss = optimize(out, correct_label, learning_rate, num_classes)\n",
    "\n",
    "# TODO: Train NN using the train_nn function\n",
    "epochs = 50\n",
    "batch_size = 16\n",
    "train_nn(sess, epochs, batch_size, get_batches_fn, train_op, cross_entropy_loss, image_input, correct_label, keep_prob, learning_rate)"
   ]
  },
  {
   "cell_type": "code",
   "execution_count": 7,
   "metadata": {
    "scrolled": false
   },
   "outputs": [
    {
     "name": "stdout",
     "output_type": "stream",
     "text": [
      "Training Finished. Saving test images to: ./runs/1511685538.3079727\n"
     ]
    }
   ],
   "source": [
    "# TODO: Save inference data using helper.save_inference_samples\n",
    "#  helper.save_inference_samples(runs_dir, data_dir, sess, image_shape, logits, keep_prob, input_image)\n",
    "helper.save_inference_samples(runs_dir, data_dir, sess, image_shape, logits, keep_prob, image_input)\n",
    "\n",
    "# OPTIONAL: Apply the trained model to a video"
   ]
  },
  {
   "cell_type": "code",
   "execution_count": null,
   "metadata": {
    "collapsed": true
   },
   "outputs": [],
   "source": []
  }
 ],
 "metadata": {
  "kernelspec": {
   "display_name": "Python 3",
   "language": "python",
   "name": "python3"
  },
  "language_info": {
   "codemirror_mode": {
    "name": "ipython",
    "version": 3
   },
   "file_extension": ".py",
   "mimetype": "text/x-python",
   "name": "python",
   "nbconvert_exporter": "python",
   "pygments_lexer": "ipython3",
   "version": "3.6.3"
  }
 },
 "nbformat": 4,
 "nbformat_minor": 2
}
